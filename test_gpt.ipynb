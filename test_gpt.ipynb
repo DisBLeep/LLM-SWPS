{
 "cells": [
  {
   "cell_type": "code",
   "execution_count": 4,
   "metadata": {},
   "outputs": [],
   "source": [
    "from openai import OpenAI\n",
    "import ourfuncs as funk\n",
    "\n",
    "GPT_MODEL   = \"gpt-3.5-turbo\"\n",
    "client = OpenAI(api_key = funk.apikey())"
   ]
  },
  {
   "cell_type": "code",
   "execution_count": 5,
   "metadata": {},
   "outputs": [
    {
     "name": "stdout",
     "output_type": "stream",
     "text": [
      "User: yo oy my wigga\n",
      "Chat: I'm not sure what you're trying to say with \"oy my wigga,\" but if you have a question or need assistance with something specific, feel free to ask and I'll do my best to help!\n"
     ]
    }
   ],
   "source": [
    "def send_and_receive_message(user_message):\n",
    "    chat_completion = client.chat.completions.create(\n",
    "        messages=[\n",
    "            {\n",
    "                \"role\": \"user\",\n",
    "                \"content\": user_message,\n",
    "            }\n",
    "        ],\n",
    "        model=GPT_MODEL,\n",
    "    )\n",
    "    if chat_completion.choices and chat_completion.choices[0].message:\n",
    "        chat_response = chat_completion.choices[0].message.content\n",
    "    else:\n",
    "        chat_response = \"No response\"\n",
    "    print(f\"User: {user_message}\\nChat: {chat_response}\")\n",
    "    return\n",
    "\n",
    "send_and_receive_message(\"yo yo my wigga\")\n"
   ]
  }
 ],
 "metadata": {
  "kernelspec": {
   "display_name": "Python 3",
   "language": "python",
   "name": "python3"
  },
  "language_info": {
   "codemirror_mode": {
    "name": "ipython",
    "version": 3
   },
   "file_extension": ".py",
   "mimetype": "text/x-python",
   "name": "python",
   "nbconvert_exporter": "python",
   "pygments_lexer": "ipython3",
   "version": "3.10.2"
  }
 },
 "nbformat": 4,
 "nbformat_minor": 2
}
