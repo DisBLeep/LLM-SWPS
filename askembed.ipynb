{
 "cells": [
  {
   "cell_type": "code",
   "execution_count": 45,
   "metadata": {},
   "outputs": [],
   "source": [
    "import pandas as pd\n",
    "import pickle\n",
    "\n",
    "EMBEDDING_MODEL = \"text-embedding-3-small\"\n",
    "SAVE_EMBDEDED_PKL   = f'Saved/textembed ({EMBEDDING_MODEL}).pkl'\n",
    "API_KEY     = open(\"key.txt\", \"r\").read().strip(\"\\n\")\n",
    "\n",
    "def save_data(data, filename):\n",
    "    with open(filename, 'wb') as file:\n",
    "        pickle.dump(data, file)\n",
    "    print(f\"Data saved to {filename}\")\n",
    "\n",
    "def load_data(filename):\n",
    "    with open(filename, 'rb') as file:\n",
    "        return pickle.load(file)\n",
    " \n",
    "data = load_data(SAVE_EMBDEDED_PKL)\n",
    "df = pd.DataFrame(data, columns=['Document', 'Page', 'Block', \"WordCount\", 'Text', 'Embedding'])"
   ]
  },
  {
   "cell_type": "code",
   "execution_count": 46,
   "metadata": {},
   "outputs": [
    {
     "name": "stdout",
     "output_type": "stream",
     "text": [
      "Data saved to Saved/Q1.pkl\n"
     ]
    }
   ],
   "source": [
    "from openai import OpenAI\n",
    "client = OpenAI(api_key=API_KEY)\n",
    "\n",
    "def get_embedding(text):\n",
    "    response = client.embeddings.create(\n",
    "        input=text,\n",
    "        model=EMBEDDING_MODEL\n",
    "    )\n",
    "    # Assuming the response structure fits this format; adjust according to actual API response\n",
    "    return response.data[0].embedding\n",
    "\n",
    "user_question = \"Jaką biżuterie kupują ludzie na mazowszu?\"\n",
    "user_embedded = get_embedding(user_question)\n",
    "save_data(user_embedded, \"Saved/Q1.pkl\")\n"
   ]
  },
  {
   "cell_type": "code",
   "execution_count": 47,
   "metadata": {},
   "outputs": [],
   "source": [
    "import pandas as pd\n",
    "import numpy as np\n",
    "from sklearn.metrics.pairwise import cosine_similarity\n",
    "import pickle\n",
    "\n",
    "\n",
    "user_embedded = load_data(\"Saved/Q1.pkl\")\n",
    "\n",
    "# Convert embeddings into a format suitable for sklearn's cosine_similarity function\n",
    "text_embeddings = np.array(df['Embedding'].tolist())\n",
    "question_embedding = np.array([user_embedded])\n",
    "\n",
    "# Calculate cosine similarity\n",
    "similarity_scores = cosine_similarity(question_embedding, text_embeddings)[0]\n",
    "\n",
    "# Append similarity scores as a percentage to the DataFrame\n",
    "df['Similarity'] = similarity_scores * 100\n",
    "\n",
    "# Sort the DataFrame based on similarity scores in descending order\n",
    "df_sorted = df.sort_values(by='Similarity', ascending=False)"
   ]
  },
  {
   "cell_type": "code",
   "execution_count": 48,
   "metadata": {},
   "outputs": [
    {
     "name": "stdout",
     "output_type": "stream",
     "text": [
      "Jaką biżuterie kupują ludzie na mazowszu?\n"
     ]
    },
    {
     "data": {
      "text/html": [
       "\n",
       "<div style=\"margin-bottom: 20px; background-color: #000; color: #fff; padding: 10px;\">\n",
       "    <p><strong>52.01% similarity</strong> in Document DDDD & DD.pdf, Page 7, Block 1</p>\n",
       "    <blockquote style=\"margin: 10px 0; padding: 10px; background-color: #333; border-left: 5px solid #ccc; color: #fff;\">\n",
       "        Nie wchodząc zbytnio w szczegóły, zauważamy na przykład to, że. Mazowszanie preferują prostsze zawieszki z Cyrkoniami oraz unikają pereł a. Ślązacy preferują zawieszki wymyślne i lżejsze bransoletki celebrytki. Wykorzystanie dynamicznych drzew decyzyjnych pozwala na głęboką i. instynktowną analizę preferencji klientów, identyfikując kluczowe różnice w. decyzjach zakupowych i nie tylko. Nie trudno wyobrazić sobie porównanie. pomiędzy tym co do sklepu się kupuje a tym, co kupują w nim klienci. Można też porównać jeden sklep wobec wszystkich innych i zyskać w prosty sposób. informacje które wspomogą przemyślaną decyzję. Narzędzie to może być użyte. do optymalizacji zapasów, planowania promocji, ustalania strategii. cenowych, a nawet projektowania układu sklepów. Dzięki dynamicznemu charakterowi modelu AHP, narzędzie to ma ogromny potencjał w.\n",
       "    </blockquote>\n",
       "</div>\n",
       "\n",
       "<div style=\"margin-bottom: 20px; background-color: #000; color: #fff; padding: 10px;\">\n",
       "    <p><strong>49.76% similarity</strong> in Document DDDD & DD.pdf, Page 2, Block 2</p>\n",
       "    <blockquote style=\"margin: 10px 0; padding: 10px; background-color: #333; border-left: 5px solid #ccc; color: #fff;\">\n",
       "        omówienia, za przykład weźmy wybór następujących trzech kolumn:. - Poziom 1 ‘Typ Biżuterii’ np. Kolczyki, Zawieszka - Poziom 2 ‘Podtyp’ np. Wiszące, Kółka, Zodiak, Medalik.\n",
       "    </blockquote>\n",
       "</div>\n",
       "\n",
       "<div style=\"margin-bottom: 20px; background-color: #000; color: #fff; padding: 10px;\">\n",
       "    <p><strong>44.73% similarity</strong> in Document DDDD & DD.pdf, Page 7, Block 2</p>\n",
       "    <blockquote style=\"margin: 10px 0; padding: 10px; background-color: #333; border-left: 5px solid #ccc; color: #fff;\">\n",
       "        najróżniejszych zastosowaniach biznesowych. Przypadki Użycia i Korzyści. Zastosowanie narzędzia AHP w sprzedaży biżuterii nie ogranicza się. jedynie do analizy danych sprzedażowych. Może ono również służyć do. przewidywania trendów, optymalizacji asortymentu w sklepie w zależności od. sezonu czy okazji, a także do personalizacji oferty dla klientów. Korzyści\n",
       "    </blockquote>\n",
       "</div>\n",
       "\n",
       "<div style=\"margin-bottom: 20px; background-color: #000; color: #fff; padding: 10px;\">\n",
       "    <p><strong>43.70% similarity</strong> in Document DDDD & DD.pdf, Page 4, Block 2</p>\n",
       "    <blockquote style=\"margin: 10px 0; padding: 10px; background-color: #333; border-left: 5px solid #ccc; color: #fff;\">\n",
       "        klientów w bardziej instynktownej wizualizacji. Teraz historia jest jasna. Na sto klientów w województwie Mazowieckim. 19 z nich sięgnie po Kolczyki, dalej 8 z 19 weźmie Wiszące a wśród. wiszących 3 z nich będzie z cyrkonią a 3 bez. Zauważamy natychmiast że sumy. widocznych kategorii nie składają się na całość wartości rodzica. Do użytkownika należy ustawienie progów dla każdego poziomu od których. będziemy definiować ‘ważne’ decyzje. Limity te są widoczne w tytule i służą.\n",
       "    </blockquote>\n",
       "</div>\n",
       "\n",
       "<div style=\"margin-bottom: 20px; background-color: #000; color: #fff; padding: 10px;\">\n",
       "    <p><strong>41.24% similarity</strong> in Document DDDD & DD.pdf, Page 1, Block 1</p>\n",
       "    <blockquote style=\"margin: 10px 0; padding: 10px; background-color: #333; border-left: 5px solid #ccc; color: #fff;\">\n",
       "        DDDD & DD. Dynamicznie Dedukowane Drzewa Decyzyjne & Detekcja Dyferencji. Wspomaganie Podejmowania Decyzji w Sprzedaży Biżuterii. Narzędzie Wizualizacji Preferencji Klientów. Patryk Lange Uniwersytet SWPS.\n",
       "    </blockquote>\n",
       "</div>\n"
      ],
      "text/plain": [
       "<IPython.core.display.HTML object>"
      ]
     },
     "metadata": {},
     "output_type": "display_data"
    }
   ],
   "source": [
    "# Assuming 'df_sorted' is your DataFrame sorted by 'Similarity' in descending order\n",
    "top_5 = df_sorted.head(5)\n",
    "\n",
    "# Initialize an empty list to hold formatted answers\n",
    "formatted_answers = []\n",
    "\n",
    "from IPython.display import display, HTML\n",
    "\n",
    "# Create an HTML template for displaying each answer\n",
    "html_template = \"\"\"\n",
    "<div style=\"margin-bottom: 20px; background-color: #000; color: #fff; padding: 10px;\">\n",
    "    <p><strong>{similarity:.2f}% similarity</strong> in Document {document}, Page {page}, Block {block}</p>\n",
    "    <blockquote style=\"margin: 10px 0; padding: 10px; background-color: #333; border-left: 5px solid #ccc; color: #fff;\">\n",
    "        {text}\n",
    "    </blockquote>\n",
    "</div>\n",
    "\"\"\"\n",
    "\n",
    "\n",
    "# Initialize an empty string to hold the entire HTML content\n",
    "html_content = \"\"\n",
    "\n",
    "# Loop through each row in the top 5 results\n",
    "for index, row in top_5.iterrows():\n",
    "    # Use the HTML template and format it with the current row's details\n",
    "    formatted_html = html_template.format(\n",
    "        similarity=row['Similarity'],\n",
    "        document=row['Document'],\n",
    "        page=row['Page'],\n",
    "        block=row['Block'],\n",
    "        text=row['Text'].replace(\"\\n\", \"<br>\"))  # Replace newlines with HTML line breaks for correct rendering\n",
    "    \n",
    "    # Append the formatted HTML to the content string\n",
    "    html_content += formatted_html\n",
    "\n",
    "# Display the formatted HTML content in the Jupyter Notebook\n",
    "print(user_question)\n",
    "display(HTML(html_content))\n",
    "\n",
    "\n"
   ]
  }
 ],
 "metadata": {
  "kernelspec": {
   "display_name": "Python 3",
   "language": "python",
   "name": "python3"
  },
  "language_info": {
   "codemirror_mode": {
    "name": "ipython",
    "version": 3
   },
   "file_extension": ".py",
   "mimetype": "text/x-python",
   "name": "python",
   "nbconvert_exporter": "python",
   "pygments_lexer": "ipython3",
   "version": "3.10.2"
  }
 },
 "nbformat": 4,
 "nbformat_minor": 2
}
