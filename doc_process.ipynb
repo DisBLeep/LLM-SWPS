{
 "cells": [
  {
   "cell_type": "markdown",
   "metadata": {},
   "source": [
    "### Importy i ustawienia"
   ]
  },
  {
   "cell_type": "code",
   "execution_count": 1,
   "metadata": {},
   "outputs": [],
   "source": [
    "import fitz\n",
    "import os\n",
    "import pickle\n",
    "import pandas as pd\n",
    "import ourfuncs as funk"
   ]
  },
  {
   "cell_type": "code",
   "execution_count": 2,
   "metadata": {},
   "outputs": [],
   "source": [
    "FOLDER_PATH = 'Doc/'  # fodler z dokumentami\n",
    "PICKLE_PATH = 'Saved/textdata.pkl'\n",
    "CSV_PATH    = 'Saved/textdata.csv'\n",
    "\n",
    "BLOCK_MIN_SENTENCES = 4\n",
    "BLOCK_MAX_SENTENCES = 5\n",
    "BLOCK_MIN_WORDS     = 20\n",
    "SENTENCE_MIN_WORDS  = 3"
   ]
  },
  {
   "cell_type": "markdown",
   "metadata": {},
   "source": [
    "### Funkcje"
   ]
  },
  {
   "cell_type": "code",
   "execution_count": 3,
   "metadata": {},
   "outputs": [],
   "source": [
    "def extract_paragraphs_from_page(page):\n",
    "    blocks = page.get_text(\"blocks\")\n",
    "    paragraphs = [block[4].strip() for block in blocks if block[4].strip() != '']\n",
    "\n",
    "    merged_paragraphs = []\n",
    "    temp_paragraph = \"\"\n",
    "    temp_word_count = 0\n",
    "    temp_sentence_count = 0\n",
    "\n",
    "    for paragraph in paragraphs:\n",
    "        sentences = [sentence.strip() for sentence in paragraph.split('.') if sentence.strip()]\n",
    "        for sentence in sentences:\n",
    "            words = sentence.split()\n",
    "            if len(words) >= SENTENCE_MIN_WORDS:\n",
    "                # Count as a valid sentence\n",
    "                if temp_sentence_count < BLOCK_MAX_SENTENCES:\n",
    "                    temp_paragraph += (sentence + \". \")\n",
    "                    temp_sentence_count += 1\n",
    "                    temp_word_count += len(words)\n",
    "                else:\n",
    "                    # Once the sentence limit is reached, append the paragraph and reset\n",
    "                    merged_paragraphs.append(temp_paragraph.strip())\n",
    "                    temp_paragraph = sentence + \". \"\n",
    "                    temp_sentence_count = 1\n",
    "                    temp_word_count = len(words)\n",
    "            else:\n",
    "                # If it's not a valid sentence, just append the words to the temp paragraph\n",
    "                temp_paragraph += (sentence + \" \")\n",
    "                temp_word_count += len(words)\n",
    "        \n",
    "        # Handle case where paragraph ends without reaching the sentence limit\n",
    "        if temp_word_count < BLOCK_MIN_WORDS:\n",
    "            # Merge with the next paragraph if current is too short\n",
    "            continue\n",
    "        elif temp_sentence_count < BLOCK_MIN_SENTENCES:\n",
    "            # Check if we can append this to previous paragraphs\n",
    "            if merged_paragraphs:\n",
    "                merged_paragraphs[-1] += \" \" + temp_paragraph.strip()\n",
    "                temp_paragraph = \"\"\n",
    "                temp_word_count = 0\n",
    "                temp_sentence_count = 0\n",
    "            else:\n",
    "                merged_paragraphs.append(temp_paragraph.strip())\n",
    "                temp_paragraph = \"\"\n",
    "                temp_word_count = 0\n",
    "                temp_sentence_count = 0\n",
    "        else:\n",
    "            merged_paragraphs.append(temp_paragraph.strip())\n",
    "            temp_paragraph = \"\"\n",
    "            temp_word_count = 0\n",
    "            temp_sentence_count = 0\n",
    "\n",
    "    # Make sure the last paragraph gets added if it's not empty\n",
    "    if temp_paragraph.strip():\n",
    "        if temp_sentence_count >= BLOCK_MIN_SENTENCES and temp_word_count >= BLOCK_MIN_WORDS:\n",
    "            merged_paragraphs.append(temp_paragraph.strip())\n",
    "        elif merged_paragraphs:\n",
    "            # Merge with the last paragraph if conditions are not met\n",
    "            merged_paragraphs[-1] += \" \" + temp_paragraph.strip()\n",
    "\n",
    "    return merged_paragraphs\n",
    "\n",
    "\n",
    "\n",
    "def extract_and_clean_text_from_folder(folder_path):\n",
    "    all_pdf_data = []\n",
    "    list_pdf_filenames(folder_path)\n",
    "    for filename in os.listdir(folder_path):\n",
    "        if filename.lower().endswith('.pdf'):\n",
    "            pdf_path = os.path.join(folder_path, filename)\n",
    "            doc = fitz.open(pdf_path)\n",
    "            \n",
    "            for page_num in range(len(doc)):\n",
    "                page = doc.load_page(page_num)\n",
    "                paragraphs = extract_paragraphs_from_page(page)\n",
    "                para_num = 0\n",
    "                for paragraph in paragraphs:\n",
    "                    para_num += 1\n",
    "                    document_name = filename\n",
    "                    text = ' '.join(paragraph.split())\n",
    "                    word_count = len(text.split())  # Count the words in the cleaned paragraph\n",
    "                    all_pdf_data.append([document_name, page_num + 1, para_num, word_count, text.strip()])\n",
    "            \n",
    "            doc.close()\n",
    "    return all_pdf_data\n",
    "\n",
    "\n",
    "def list_pdf_filenames(folder_path):\n",
    "    pdf_filenames = [filename for filename in os.listdir(folder_path) if filename.lower().endswith('.pdf')]\n",
    "    idx = 0\n",
    "    print(f'Documents in folder:')\n",
    "    for filename in pdf_filenames:\n",
    "        idx += 1\n",
    "        print(f'\\t {idx} : {filename}')\n",
    "    return pdf_filenames\n"
   ]
  },
  {
   "cell_type": "markdown",
   "metadata": {},
   "source": [
    "### Rozbicie PDF na tekst"
   ]
  },
  {
   "cell_type": "code",
   "execution_count": 4,
   "metadata": {},
   "outputs": [
    {
     "name": "stdout",
     "output_type": "stream",
     "text": [
      "Documents in folder:\n",
      "\t 1 : DDDD & DD.pdf\n",
      "\t 2 : Latające Taksówki - Wdrażanie Innowacji  - Projekt (Lange, 67619).pdf\n",
      "\t 3 : Ustawa.pdf\n",
      "Data saved to Saved/textdata.pkl\n"
     ]
    }
   ],
   "source": [
    "all_pdf_text_list   = extract_and_clean_text_from_folder(FOLDER_PATH)\n",
    "all_pdf_text_df     = pd.DataFrame(all_pdf_text_list, columns=['Document', 'Page', 'Block', \"WordCount\", 'Text'])\n",
    "\n",
    "# zapis w csv (łatwiej odpalić do przejrzenia)\n",
    "with open(CSV_PATH, mode='w', newline='', encoding='utf-8-sig') as file:\n",
    "    all_pdf_text_df.to_csv(file, index=False)\n",
    "\n",
    "# zapis listy (inne skrypty ją będą odczytywać)\n",
    "funk.save_data(all_pdf_text_list, PICKLE_PATH)"
   ]
  },
  {
   "cell_type": "markdown",
   "metadata": {},
   "source": [
    "### Sprawdzenie rozbijania na tekst"
   ]
  },
  {
   "cell_type": "code",
   "execution_count": 5,
   "metadata": {},
   "outputs": [
    {
     "data": {
      "text/html": [
       "<div>\n",
       "<style scoped>\n",
       "    .dataframe tbody tr th:only-of-type {\n",
       "        vertical-align: middle;\n",
       "    }\n",
       "\n",
       "    .dataframe tbody tr th {\n",
       "        vertical-align: top;\n",
       "    }\n",
       "\n",
       "    .dataframe thead th {\n",
       "        text-align: right;\n",
       "    }\n",
       "</style>\n",
       "<table border=\"1\" class=\"dataframe\">\n",
       "  <thead>\n",
       "    <tr style=\"text-align: right;\">\n",
       "      <th></th>\n",
       "      <th>Document</th>\n",
       "      <th>MinWordCount</th>\n",
       "      <th>MaxWordCount</th>\n",
       "      <th>AvgWordCount</th>\n",
       "      <th>MedianBlocks</th>\n",
       "      <th>MaxBlocks</th>\n",
       "    </tr>\n",
       "  </thead>\n",
       "  <tbody>\n",
       "    <tr>\n",
       "      <th>0</th>\n",
       "      <td>DDDD &amp; DD.pdf</td>\n",
       "      <td>22</td>\n",
       "      <td>125</td>\n",
       "      <td>66.105263</td>\n",
       "      <td>3.0</td>\n",
       "      <td>4</td>\n",
       "    </tr>\n",
       "    <tr>\n",
       "      <th>1</th>\n",
       "      <td>Latające Taksówki - Wdrażanie Innowacji  - Pro...</td>\n",
       "      <td>20</td>\n",
       "      <td>225</td>\n",
       "      <td>89.555556</td>\n",
       "      <td>2.0</td>\n",
       "      <td>5</td>\n",
       "    </tr>\n",
       "    <tr>\n",
       "      <th>2</th>\n",
       "      <td>Ustawa.pdf</td>\n",
       "      <td>22</td>\n",
       "      <td>304</td>\n",
       "      <td>113.714286</td>\n",
       "      <td>2.0</td>\n",
       "      <td>4</td>\n",
       "    </tr>\n",
       "  </tbody>\n",
       "</table>\n",
       "</div>"
      ],
      "text/plain": [
       "                                            Document  MinWordCount  \\\n",
       "0                                      DDDD & DD.pdf            22   \n",
       "1  Latające Taksówki - Wdrażanie Innowacji  - Pro...            20   \n",
       "2                                         Ustawa.pdf            22   \n",
       "\n",
       "   MaxWordCount  AvgWordCount  MedianBlocks  MaxBlocks  \n",
       "0           125     66.105263           3.0          4  \n",
       "1           225     89.555556           2.0          5  \n",
       "2           304    113.714286           2.0          4  "
      ]
     },
     "execution_count": 5,
     "metadata": {},
     "output_type": "execute_result"
    }
   ],
   "source": [
    "word_count_stats = all_pdf_text_df.groupby('Document')['WordCount'].agg(['min', 'max', 'mean']).reset_index()\n",
    "word_count_stats = word_count_stats.rename(columns={'min': 'MinWordCount', 'max': 'MaxWordCount', 'mean': 'AvgWordCount'})\n",
    "\n",
    "# Kalkulacje do fine-tuning exportu tekstu\n",
    "blocks_per_document         = all_pdf_text_df.groupby(['Document', 'Page']).size().reset_index(name='Blocks')\n",
    "median_blocks_per_document  = blocks_per_document.groupby('Document')['Blocks'].median().reset_index(name='MedianBlocks')\n",
    "total_blocks_per_document   = blocks_per_document.groupby('Document')['Blocks'].max().reset_index(name='MaxBlocks')\n",
    "\n",
    "final_stats = pd.merge(word_count_stats , median_blocks_per_document, on='Document')\n",
    "final_stats = pd.merge(final_stats      , total_blocks_per_document , on='Document')\n",
    "final_stats"
   ]
  },
  {
   "cell_type": "code",
   "execution_count": 6,
   "metadata": {},
   "outputs": [],
   "source": [
    "# leniwe auto odpalenie excela z wynikami\n",
    "#os.system(f\"start EXCEL.EXE \\\"{CSV_PATH}\\\"\")"
   ]
  }
 ],
 "metadata": {
  "kernelspec": {
   "display_name": "Python 3",
   "language": "python",
   "name": "python3"
  },
  "language_info": {
   "codemirror_mode": {
    "name": "ipython",
    "version": 3
   },
   "file_extension": ".py",
   "mimetype": "text/x-python",
   "name": "python",
   "nbconvert_exporter": "python",
   "pygments_lexer": "ipython3",
   "version": "3.10.2"
  }
 },
 "nbformat": 4,
 "nbformat_minor": 2
}
