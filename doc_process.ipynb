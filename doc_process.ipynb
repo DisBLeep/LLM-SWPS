{
 "cells": [
  {
   "cell_type": "code",
   "execution_count": 41,
   "metadata": {},
   "outputs": [],
   "source": [
    "import fitz  # Import PyMuPDF\n",
    "import os  # Import os for directory operations\n",
    "import pickle"
   ]
  },
  {
   "cell_type": "code",
   "execution_count": 42,
   "metadata": {},
   "outputs": [],
   "source": [
    "FOLDER_PATH = 'Doc/'  # Adjust this path to your folder\n",
    "PICKLE_PATH = 'Saved/textdata.pkl'  # Specify the filename and path to save the data\n"
   ]
  },
  {
   "cell_type": "code",
   "execution_count": 43,
   "metadata": {},
   "outputs": [],
   "source": [
    "def extract_and_clean_text_from_folder(folder_path):\n",
    "    all_pdf_data = []\n",
    "    for filename in os.listdir(folder_path):\n",
    "        if filename.lower().endswith('.pdf'):\n",
    "            pdf_path = os.path.join(folder_path, filename)\n",
    "            doc = fitz.open(pdf_path)\n",
    "            cleaned_pages = []\n",
    "            \n",
    "            for page_num in range(len(doc)):\n",
    "                page = doc.load_page(page_num)\n",
    "                text = page.get_text(\"text\")\n",
    "                text = ' '.join(text.split())\n",
    "                document_name = filename\n",
    "                cleaned_pages.append([document_name, page_num + 1, text.strip()])\n",
    "            doc.close()\n",
    "            all_pdf_data.extend(cleaned_pages)\n",
    "    return all_pdf_data\n",
    "\n",
    "def list_pdf_filenames(folder_path):\n",
    "    pdf_filenames = [filename for filename in os.listdir(folder_path) if filename.lower().endswith('.pdf')]\n",
    "    idx = 0\n",
    "    print(f'Documents in folder:')\n",
    "    for filename in pdf_filenames:\n",
    "        idx += 1\n",
    "        print(f'\\t {idx} : {filename}')\n",
    "    return pdf_filenames\n",
    "\n",
    "def print_specific_page(all_cleaned_data, document_name, page_number):\n",
    "    for entry in all_cleaned_data:\n",
    "        if entry[0] == document_name and entry[1] == page_number:\n",
    "            print(f\"Content of page {page_number} in document '{document_name}':\\n\\t{entry[2]}\")\n",
    "            return\n",
    "    print(f\"Page {page_number} in document '{document_name}' not found.\")\n",
    "\n",
    "def save_data(data, filename):\n",
    "    with open(filename, 'wb') as file:\n",
    "        pickle.dump(data, file)\n",
    "    print(f\"Data saved to {filename}\")\n",
    "\n",
    "def load_data(filename):\n",
    "    with open(filename, 'rb') as file:\n",
    "        return pickle.load(file)\n"
   ]
  },
  {
   "cell_type": "code",
   "execution_count": 44,
   "metadata": {},
   "outputs": [
    {
     "name": "stdout",
     "output_type": "stream",
     "text": [
      "Documents in folder:\n",
      "\t 1 : Ustawa.pdf\n",
      "Data saved to Saved/textdata.pkl\n",
      "Content of page 1 in document 'Ustawa.pdf':\n",
      "\t©Kancelaria Sejmu s. 1/15 2023-09-21 U S T AWA z dnia 24 czerwca 1994 r. o własności lokali Rozdział 1 Przepisy ogólne Art. 1. 1. Ustawa określa sposób ustanawiania odrębnej własności samodzielnych lokali mieszkalnych, lokali o innym przeznaczeniu, prawa i obowiązki właścicieli tych lokali oraz zarząd nieruchomością wspólną. 2. W zakresie nieuregulowanym ustawą do własności lokali stosuje się przepisy Kodeksu cywilnego. Art. 1a. Ilekroć w ustawie jest mowa o właścicielu lokalu, należy przez to rozumieć także współwłaściciela lokalu w częściach ułamkowych, z wyjątkiem art. 16. Art. 2. 1. Samodzielny lokal mieszkalny, a także lokal o innym przeznaczeniu, zwane dalej „lokalami”, mogą stanowić odrębne nieruchomości. 1a. Ustanowienie odrębnej własności samodzielnego lokalu następuje zgodnie z ustaleniami miejscowego planu zagospodarowania przestrzennego albo treścią decyzji o warunkach zabudowy i zagospodarowania terenu [albo uchwały o ustaleniu lokalizacji inwestycji mieszkaniowej] oraz zgodnie z pozwoleniem na budowę albo skutecznie dokonanym zgłoszeniem, i zgodnie z pozwoleniem na użytkowanie albo skutecznie dokonanym zawiadomieniem o zakończeniu budowy. 1b. Przepisu ust. 1a nie stosuje się do budynków istniejących przed dniem 1 stycznia 1995 r. lub wybudowanych na podstawie pozwolenia na budowę wydanego przed tą datą. 1c. Odrębną nieruchomość w budynku mieszkalnym jednorodzinnym mogą stanowić co najwyżej dwa samodzielne lokale mieszkalne. Ograniczenie to nie ma Opracowano na podstawie: t.j. Dz. U. z 2021 r. poz. 1048, z 2023 r. poz. 1688. Zmiana w ust. 1a w art. 2 wejdzie w życie z dn. 1.01.2026 r. (Dz. U. z 2023 r. poz. 1688).\n"
     ]
    }
   ],
   "source": [
    "all_cleaned_data        = extract_and_clean_text_from_folder(FOLDER_PATH)\n",
    "docs                    = list_pdf_filenames(FOLDER_PATH)\n",
    "\n",
    "save_data(all_cleaned_data, PICKLE_PATH)\n",
    "print_specific_page(all_cleaned_data, docs[0], 1)"
   ]
  },
  {
   "cell_type": "code",
   "execution_count": 46,
   "metadata": {},
   "outputs": [
    {
     "name": "stdout",
     "output_type": "stream",
     "text": [
      "Content of page 2 in document 'Ustawa.pdf':\n",
      "\t©Kancelaria Sejmu s. 2/15 2023-09-21 zastosowania do budynków, które zostały wybudowane na podstawie pozwolenia na budowę wydanego przed dniem 11 lipca 2003 r. 2. Samodzielnym lokalem mieszkalnym, w rozumieniu ustawy, jest wydzielona trwałymi ścianami w obrębie budynku izba lub zespół izb przeznaczonych na stały pobyt ludzi, które wraz z pomieszczeniami pomocniczymi służą zaspokajaniu ich potrzeb mieszkaniowych. Przepis ten stosuje się odpowiednio również do samodzielnych lokali wykorzystywanych zgodnie z przeznaczeniem na cele inne niż mieszkalne. 3. Spełnienie wymagań, o których mowa w ust. 1a–2, stwierdza starosta w formie zaświadczenia. 4. Do lokalu mogą przynależeć, jako jego części składowe, pomieszczenia, choćby nawet do niego bezpośrednio nie przylegały lub były położone w granicach nieruchomości gruntowej poza budynkiem, w którym wyodrębniono dany lokal, a w szczególności: piwnica, strych, komórka, garaż, zwane dalej „pomieszczeniami przynależnymi”. 5. Lokale wraz z pomieszczeniami do nich przynależnymi zaznacza się na rzucie odpowiednich kondygnacji budynku, a w razie położenia pomieszczeń przynależnych poza budynkiem mieszkalnym – także na wyrysie z operatu ewidencyjnego; dokumenty te stanowią załącznik do aktu ustanawiającego odrębną własność lokalu. 6. W razie braku dokumentacji technicznej budynku, zaznaczeń, o których mowa w ust. 5, dokonuje się, zgodnie z wymogami przepisów prawa budowlanego, na koszt dotychczasowego właściciela nieruchomości, o ile strony umowy o ustanowienie odrębnej własności lokalu nie postanowiły inaczej. Art. 3. 1. W razie wyodrębnienia własności lokali właścicielowi lokalu przysługuje udział w nieruchomości wspólnej jako prawo związane z własnością lokali. Nie można żądać zniesienia współwłasności nieruchomości wspólnej, dopóki trwa odrębna własność lokali. 2. Nieruchomość wspólną stanowi grunt oraz części budynku i urządzenia, które nie służą wyłącznie do użytku właścicieli lokali. 3. Udział właściciela lokalu wyodrębnionego w nieruchomości wspólnej odpowiada stosunkowi powierzchni użytkowej lokalu wraz z powierzchnią pomieszczeń przynależnych do łącznej powierzchni użytkowej wszystkich lokali wraz z pomieszczeniami do nich przynależnymi. Udział właściciela samodzielnych lokali niewyodrębnionych w nieruchomości wspólnej odpowiada stosunkowi powierzchni\n"
     ]
    }
   ],
   "source": [
    "loaded_data = load_data(PICKLE_PATH)\n",
    "print_specific_page(loaded_data, docs[0], 2)"
   ]
  }
 ],
 "metadata": {
  "kernelspec": {
   "display_name": "Python 3",
   "language": "python",
   "name": "python3"
  },
  "language_info": {
   "codemirror_mode": {
    "name": "ipython",
    "version": 3
   },
   "file_extension": ".py",
   "mimetype": "text/x-python",
   "name": "python",
   "nbconvert_exporter": "python",
   "pygments_lexer": "ipython3",
   "version": "3.10.2"
  }
 },
 "nbformat": 4,
 "nbformat_minor": 2
}
