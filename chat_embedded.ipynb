{
 "cells": [
  {
   "cell_type": "markdown",
   "metadata": {},
   "source": [
    "### Importy i ustawienia"
   ]
  },
  {
   "cell_type": "code",
   "execution_count": 1,
   "metadata": {},
   "outputs": [],
   "source": [
    "import pandas as pd\n",
    "import pickle\n",
    "import ourfuncs as funk\n",
    "from openai import OpenAI\n",
    "import numpy as np\n",
    "from sklearn.metrics.pairwise import cosine_similarity\n",
    "from IPython.display import display, HTML\n",
    "\n",
    "\n",
    "EMBEDDING_MODEL     = \"text-embedding-3-small\"\n",
    "SAVE_EMBDEDED_PKL   = f'Saved/textembed ({EMBEDDING_MODEL}).pkl'\n",
    "API_KEY             = open(\"key.txt\", \"r\").read().strip(\"\\n\")\n",
    "TOP_X               = 5 #ile najtrafniejszych zwracać\n",
    "\n",
    "client  = OpenAI(api_key=API_KEY)\n",
    "data    = funk.load_data(SAVE_EMBDEDED_PKL)\n",
    "df      = pd.DataFrame(data, columns=['Document', 'Page', 'Block', \"WordCount\", 'Text', 'Embedding'])"
   ]
  },
  {
   "cell_type": "markdown",
   "metadata": {},
   "source": [
    "### Pytanie i za-embedowanie pytania"
   ]
  },
  {
   "cell_type": "code",
   "execution_count": 2,
   "metadata": {},
   "outputs": [
    {
     "name": "stdout",
     "output_type": "stream",
     "text": [
      "Data saved to Saved/Q1.pkl\n"
     ]
    }
   ],
   "source": [
    "def get_embedding(text):\n",
    "    response = client.embeddings.create(\n",
    "        input=text,\n",
    "        model=EMBEDDING_MODEL\n",
    "    )\n",
    "    # Assuming the response structure fits this format; adjust according to actual API response\n",
    "    return response.data[0].embedding\n",
    "\n",
    "user_question = \"za co odpowiada zarząd wspólnoty?\"\n",
    "user_embedded = get_embedding(user_question)\n",
    "funk.save_data(user_embedded, \"Saved/Q1.pkl\")"
   ]
  },
  {
   "cell_type": "markdown",
   "metadata": {},
   "source": [
    "### Kalkulacja trafności tekstu\n",
    "Czyli porównanie embeddingu pytania do embeddingu każdego z tekstów"
   ]
  },
  {
   "cell_type": "code",
   "execution_count": 3,
   "metadata": {},
   "outputs": [],
   "source": [
    "# !! Convert embeddings into a format suitable for sklearn's cosine_similarity function\n",
    "text_embeddings     = np.array(df['Embedding'].tolist())\n",
    "question_embedding  = np.array([user_embedded])\n",
    "\n",
    "# Calculate cosine similarity\n",
    "similarity_scores   = cosine_similarity(question_embedding, text_embeddings)[0]\n",
    "\n",
    "# Append similarity scores as a percentage to the DataFrame\n",
    "df['Similarity']    = similarity_scores * 100\n",
    "#df"
   ]
  },
  {
   "cell_type": "markdown",
   "metadata": {},
   "source": [
    "### Formatowanie odpowiedzi"
   ]
  },
  {
   "cell_type": "code",
   "execution_count": 4,
   "metadata": {},
   "outputs": [],
   "source": [
    "# Zwracamy top X\n",
    "df_sort             = df.sort_values(by='Similarity', ascending=False)\n",
    "top_X               = df_sort.head(TOP_X)\n",
    "formatted_answers   = []\n",
    "html_content        = \"\"\n",
    "\n",
    "# Template w HTML do wyświetlania odpowiedzi (ładniej)\n",
    "html_template = \"\"\"\n",
    "<div style=\"margin-bottom: 20px; background-color: #000; color: #fff; padding: 10px;\">\n",
    "    <p><strong>{similarity:.2f}% similarity</strong> in Document {document}, Page {page}, Block {block}</p>\n",
    "    <blockquote style=\"margin: 10px 0; padding: 10px; background-color: #333; border-left: 5px solid #ccc; color: #fff;\">\n",
    "        {text}\n",
    "    </blockquote>\n",
    "</div>\n",
    "\"\"\"\n",
    "\n",
    "# Zbudowanie odpowiedzi dla każdego z 5 wyników w zbiorczą odpowiedź\n",
    "for index, row in top_X.iterrows():\n",
    "    # Use the HTML template and format it with the current row's details\n",
    "    formatted_html  = html_template.format(\n",
    "        similarity  =row['Similarity'],\n",
    "        document    =row['Document'],\n",
    "        page        =row['Page'],\n",
    "        block       =row['Block'],\n",
    "        text        =row['Text'].replace(\"\\n\", \"<br>\"))  \n",
    "    # dodanie tej z yop wyików do zbioczej zwrotki\n",
    "    html_content    += formatted_html"
   ]
  },
  {
   "cell_type": "markdown",
   "metadata": {},
   "source": [
    "### Odpowiedź"
   ]
  },
  {
   "cell_type": "code",
   "execution_count": 5,
   "metadata": {},
   "outputs": [
    {
     "name": "stdout",
     "output_type": "stream",
     "text": [
      "za co odpowiada zarząd wspólnoty?\n"
     ]
    },
    {
     "data": {
      "text/html": [
       "\n",
       "<div style=\"margin-bottom: 20px; background-color: #000; color: #fff; padding: 10px;\">\n",
       "    <p><strong>63.93% similarity</strong> in Document Ustawa.pdf, Page 9, Block 1</p>\n",
       "    <blockquote style=\"margin: 10px 0; padding: 10px; background-color: #333; border-left: 5px solid #ccc; color: #fff;\">\n",
       "        ©Kancelaria Sejmu s. 9/15 2023-09-21 2 Gdy zarząd jest kilkuosobowy, oświadczenia woli za wspólnotę mieszkaniową. składają przynajmniej dwaj jego członkowie. 3 Zarząd na podstawie pełnomocnictwa, o którym mowa w art. 22 ust 2, składa oświadczenia w celu wykonania uchwał w sprawach, o których mowa w art. 22 ust 3 pkt 5, 5a i 6, ze skutkiem w stosunku do właścicieli wszystkich lokali. 4 (uchylony) 5 (uchylony) Art 22 1 Czynności zwykłego zarządu podejmuje zarząd samodzielnie. 2 Do podjęcia przez zarząd czynności przekraczającej zakres zwykłego zarządu. potrzebna jest uchwała właścicieli lokali wyrażająca zgodę na dokonanie tej czynności. oraz udzielająca zarządowi pełnomocnictwa do zawierania umów stanowiących. czynności przekraczające zakres zwykłego zarządu w formie prawem przewidzianej. 3 Czynnościami przekraczającymi zakres zwykłego zarządu są w szczególności:. 1) ustalenie wynagrodzenia zarządu lub zarządcy nieruchomości wspólnej;. 2) przyjęcie rocznego planu gospodarczego;. 3) ustalenie wysokości opłat na pokrycie kosztów zarządu;. 4) zmiana przeznaczenia części nieruchomości wspólnej;. 5) udzielenie zgody na nadbudowę lub przebudowę nieruchomości wspólnej, na. ustanowienie odrębnej własności lokalu powstałego w następstwie nadbudowy. lub przebudowy i rozporządzenie tym lokalem oraz na zmianę wysokości. udziałów w następstwie powstania odrębnej własności lokalu nadbudowanego. lub przebudowanego;\n",
       "    </blockquote>\n",
       "</div>\n",
       "\n",
       "<div style=\"margin-bottom: 20px; background-color: #000; color: #fff; padding: 10px;\">\n",
       "    <p><strong>63.39% similarity</strong> in Document Ustawa.pdf, Page 12, Block 4</p>\n",
       "    <blockquote style=\"margin: 10px 0; padding: 10px; background-color: #333; border-left: 5px solid #ccc; color: #fff;\">\n",
       "        w częściach odpowiadających ich udziałom w nieruchomości wspólnej. 1e Zarząd lub zarządca, któremu zarząd nieruchomością wspólną powierzono. w sposób określony w art. 18 ust 1, może żądać od właścicieli lokali okazania. dokumentów potwierdzających prawo własności lokali. 2 Właściciele lokali podejmują uchwałę w przedmiocie udzielenia absolutorium. zarządowi lub zarządcy, któremu zarząd nieruchomością wspólną powierzono. w sposób określony w art. 18 ust 1, z prowadzonej przez niego działalności. 3 Prawo kontroli działalności zarządu służy każdemu właścicielowi lokalu. Art 30 1 Zarząd lub zarządca, któremu zarząd nieruchomością wspólną. powierzono w sposób określony w art. 18 ust 1, jest obowiązany:. 1) dokonywać rozliczeń przez rachunek bankowy;. 2) składać właścicielom lokali roczne sprawozdanie ze swojej działalności;.\n",
       "    </blockquote>\n",
       "</div>\n",
       "\n",
       "<div style=\"margin-bottom: 20px; background-color: #000; color: #fff; padding: 10px;\">\n",
       "    <p><strong>62.91% similarity</strong> in Document Ustawa.pdf, Page 12, Block 1</p>\n",
       "    <blockquote style=\"margin: 10px 0; padding: 10px; background-color: #333; border-left: 5px solid #ccc; color: #fff;\">\n",
       "        ©Kancelaria Sejmu s. 12/15 2023-09-21 Art 29 1 Zarząd lub zarządca, któremu zarząd nieruchomością wspólną. powierzono w sposób określony w art. 18 ust 1, jest obowiązany prowadzić dla. każdej nieruchomości wspólnej, określoną przez wspólnotę mieszkaniową, ewidencję. pozaksięgową kosztów zarządu nieruchomością wspólną oraz zaliczek uiszczanych na. pokrycie tych kosztów, a także rozliczeń z innych tytułów na rzecz nieruchomości.\n",
       "    </blockquote>\n",
       "</div>\n",
       "\n",
       "<div style=\"margin-bottom: 20px; background-color: #000; color: #fff; padding: 10px;\">\n",
       "    <p><strong>61.29% similarity</strong> in Document Ustawa.pdf, Page 8, Block 3</p>\n",
       "    <blockquote style=\"margin: 10px 0; padding: 10px; background-color: #333; border-left: 5px solid #ccc; color: #fff;\">\n",
       "        jednoosobowego lub kilkuosobowego zarządu. Członkiem zarządu może być. wyłącznie osoba fizyczna. 2 Zarząd lub poszczególni jego członkowie mogą być w każdej chwili na mocy. uchwały właścicieli lokali zawieszeni w czynnościach lub odwołani. Art 21 1 Zarząd kieruje sprawami wspólnoty mieszkaniowej i reprezentuje ją. na zewnątrz oraz w stosunkach między wspólnotą a poszczególnymi właścicielami. lokali\n",
       "    </blockquote>\n",
       "</div>\n",
       "\n",
       "<div style=\"margin-bottom: 20px; background-color: #000; color: #fff; padding: 10px;\">\n",
       "    <p><strong>60.97% similarity</strong> in Document Ustawa.pdf, Page 13, Block 2</p>\n",
       "    <blockquote style=\"margin: 10px 0; padding: 10px; background-color: #333; border-left: 5px solid #ccc; color: #fff;\">\n",
       "        właścicieli lokali w terminie, o którym mowa w ust. 1 pkt 3, zebranie coroczne może. zwołać każdy z właścicieli. 2 Przedmiotem zebrania, o którym mowa w ust. 1, powinny być. w szczególności: 1) uchwalenie rocznego planu gospodarczego zarządu nieruchomością wspólną. i opłat na pokrycie kosztów zarządu;. 2) ocena pracy zarządu lub zarządcy, któremu zarząd nieruchomością wspólną. powierzono w sposób określony w art. 18 ust 1; 3) sprawozdanie zarządu i podjęcie uchwały w przedmiocie udzielenia mu. absolutorium Art 31 Zebrania ogółu właścicieli lokali:. a) mogą być także, w razie potrzeby, zwoływane przez zarząd lub zarządcę,. któremu zarząd nieruchomością wspólną powierzono w sposób określony. w art 18 ust 1, b) zwoływane są na wniosek właścicieli lokali dysponujących co najmniej. 1/10 udziałów w nieruchomości wspólnej przez zarząd lub zarządcę, któremu. zarząd nieruchomością wspólną powierzono w sposób określony w art. 18 ust 1 Art 32 1 O zebraniu ogółu właścicieli lokali zarząd lub zarządca, któremu. zarząd nieruchomością wspólną powierzono w sposób określony w art. 18 ust 1, zawiadamia każdego właściciela lokalu na piśmie przynajmniej na tydzień przed. terminem zebrania 2 W zawiadomieniu należy podać dzień, godzinę, miejsce i porządek obrad. W wypadku zamierzonej zmiany we wzajemnych prawach i obowiązkach właścicieli. lokali należy wskazać treść tej zmiany. Art 32a Jeżeli grunt wchodzący w skład nieruchomości wspólnej nie spełnia. wymogów przewidzianych dla działki budowlanej, uniemożliwiając prawidłowe. i racjonalne korzystanie z budynków i urządzeń z nimi związanych, zarząd lub. zarządca, któremu zarząd nieruchomością wspólną powierzono w sposób określony.\n",
       "    </blockquote>\n",
       "</div>\n"
      ],
      "text/plain": [
       "<IPython.core.display.HTML object>"
      ]
     },
     "metadata": {},
     "output_type": "display_data"
    }
   ],
   "source": [
    "# Display the formatted HTML content in the Jupyter Notebook\n",
    "print(user_question)\n",
    "display(HTML(html_content))"
   ]
  }
 ],
 "metadata": {
  "kernelspec": {
   "display_name": "Python 3",
   "language": "python",
   "name": "python3"
  },
  "language_info": {
   "codemirror_mode": {
    "name": "ipython",
    "version": 3
   },
   "file_extension": ".py",
   "mimetype": "text/x-python",
   "name": "python",
   "nbconvert_exporter": "python",
   "pygments_lexer": "ipython3",
   "version": "3.10.2"
  }
 },
 "nbformat": 4,
 "nbformat_minor": 2
}
